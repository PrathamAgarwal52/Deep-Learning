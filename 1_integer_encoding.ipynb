{
 "cells": [
  {
   "cell_type": "code",
   "execution_count": 1,
   "metadata": {},
   "outputs": [],
   "source": [
    "import numpy as np\n",
    "\n",
    "docs = ['go india',\n",
    "        'india india',\n",
    "        'congrats guys',\n",
    "        'dhoni dhoni',\n",
    "        'king kohli',\n",
    "        'sachin sachin',\n",
    "        'chennai super kings',\n",
    "        'no corruption']"
   ]
  },
  {
   "cell_type": "code",
   "execution_count": 2,
   "metadata": {},
   "outputs": [],
   "source": [
    "from tensorflow.keras.preprocessing.text import Tokenizer  \n",
    "tokenizer = Tokenizer(oov_token = 'nothing') #out of value token = oov"
   ]
  },
  {
   "cell_type": "code",
   "execution_count": 3,
   "metadata": {},
   "outputs": [],
   "source": [
    "tokenizer.fit_on_texts(docs)"
   ]
  },
  {
   "cell_type": "code",
   "execution_count": 4,
   "metadata": {},
   "outputs": [
    {
     "data": {
      "text/plain": [
       "{'nothing': 1,\n",
       " 'india': 2,\n",
       " 'dhoni': 3,\n",
       " 'sachin': 4,\n",
       " 'go': 5,\n",
       " 'congrats': 6,\n",
       " 'guys': 7,\n",
       " 'king': 8,\n",
       " 'kohli': 9,\n",
       " 'chennai': 10,\n",
       " 'super': 11,\n",
       " 'kings': 12,\n",
       " 'no': 13,\n",
       " 'corruption': 14}"
      ]
     },
     "execution_count": 4,
     "metadata": {},
     "output_type": "execute_result"
    }
   ],
   "source": [
    "tokenizer.word_index"
   ]
  },
  {
   "cell_type": "code",
   "execution_count": 5,
   "metadata": {},
   "outputs": [
    {
     "data": {
      "text/plain": [
       "OrderedDict([('go', 1),\n",
       "             ('india', 3),\n",
       "             ('congrats', 1),\n",
       "             ('guys', 1),\n",
       "             ('dhoni', 2),\n",
       "             ('king', 1),\n",
       "             ('kohli', 1),\n",
       "             ('sachin', 2),\n",
       "             ('chennai', 1),\n",
       "             ('super', 1),\n",
       "             ('kings', 1),\n",
       "             ('no', 1),\n",
       "             ('corruption', 1)])"
      ]
     },
     "execution_count": 5,
     "metadata": {},
     "output_type": "execute_result"
    }
   ],
   "source": [
    "tokenizer.word_counts"
   ]
  },
  {
   "cell_type": "code",
   "execution_count": 6,
   "metadata": {},
   "outputs": [
    {
     "data": {
      "text/plain": [
       "8"
      ]
     },
     "execution_count": 6,
     "metadata": {},
     "output_type": "execute_result"
    }
   ],
   "source": [
    "tokenizer.document_count"
   ]
  },
  {
   "cell_type": "code",
   "execution_count": 7,
   "metadata": {},
   "outputs": [
    {
     "data": {
      "text/plain": [
       "[[5, 2], [2, 2], [6, 7], [3, 3], [8, 9], [4, 4], [10, 11, 12], [13, 14]]"
      ]
     },
     "execution_count": 7,
     "metadata": {},
     "output_type": "execute_result"
    }
   ],
   "source": [
    "sequences = tokenizer.texts_to_sequences(docs)\n",
    "sequences"
   ]
  },
  {
   "cell_type": "code",
   "execution_count": 8,
   "metadata": {},
   "outputs": [],
   "source": [
    "from keras.utils import pad_sequences"
   ]
  },
  {
   "cell_type": "code",
   "execution_count": 12,
   "metadata": {},
   "outputs": [],
   "source": [
    "sequences = pad_sequences(sequences,padding = 'post')"
   ]
  },
  {
   "cell_type": "code",
   "execution_count": 13,
   "metadata": {},
   "outputs": [
    {
     "data": {
      "text/plain": [
       "array([[ 5,  2,  0],\n",
       "       [ 2,  2,  0],\n",
       "       [ 6,  7,  0],\n",
       "       [ 3,  3,  0],\n",
       "       [ 8,  9,  0],\n",
       "       [ 4,  4,  0],\n",
       "       [10, 11, 12],\n",
       "       [13, 14,  0]])"
      ]
     },
     "execution_count": 13,
     "metadata": {},
     "output_type": "execute_result"
    }
   ],
   "source": [
    "sequences"
   ]
  }
 ],
 "metadata": {
  "kernelspec": {
   "display_name": "Python 3",
   "language": "python",
   "name": "python3"
  },
  "language_info": {
   "codemirror_mode": {
    "name": "ipython",
    "version": 3
   },
   "file_extension": ".py",
   "mimetype": "text/x-python",
   "name": "python",
   "nbconvert_exporter": "python",
   "pygments_lexer": "ipython3",
   "version": "3.11.5"
  }
 },
 "nbformat": 4,
 "nbformat_minor": 2
}
